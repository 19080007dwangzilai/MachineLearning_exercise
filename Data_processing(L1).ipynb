{
  "nbformat": 4,
  "nbformat_minor": 0,
  "metadata": {
    "colab": {
      "name": "Data_processing(1).ipynb",
      "provenance": [],
      "collapsed_sections": [],
      "toc_visible": true,
      "authorship_tag": "ABX9TyNO1wGJ1Ap/FPgEKxeecsHh",
      "include_colab_link": true
    },
    "kernelspec": {
      "name": "python3",
      "display_name": "Python 3"
    }
  },
  "cells": [
    {
      "cell_type": "markdown",
      "metadata": {
        "id": "view-in-github",
        "colab_type": "text"
      },
      "source": [
        "<a href=\"https://colab.research.google.com/github/19080007dwangzilai/MachineLearning_exercise/blob/master/Data_processing(L1).ipynb\" target=\"_parent\"><img src=\"https://colab.research.google.com/assets/colab-badge.svg\" alt=\"Open In Colab\"/></a>"
      ]
    },
    {
      "cell_type": "markdown",
      "metadata": {
        "id": "emzjPfVIP5LE",
        "colab_type": "text"
      },
      "source": [
        "# import the library"
      ]
    },
    {
      "cell_type": "code",
      "metadata": {
        "id": "uk7YKLETP-7Y",
        "colab_type": "code",
        "colab": {}
      },
      "source": [
        "import numpy as np\n",
        "import matplotlib.pyplot as plt\n",
        "import pandas as pd"
      ],
      "execution_count": 0,
      "outputs": []
    },
    {
      "cell_type": "markdown",
      "metadata": {
        "id": "eB99QTaZP_5r",
        "colab_type": "text"
      },
      "source": [
        "# import the dataset"
      ]
    },
    {
      "cell_type": "code",
      "metadata": {
        "id": "Kb9N0EwvQCxa",
        "colab_type": "code",
        "colab": {}
      },
      "source": [
        "dataset = pd.read_csv('Data.csv')\n",
        "X = dataset.iloc[:,:-1].values\n",
        "Y = dataset.iloc[:,-1].values"
      ],
      "execution_count": 0,
      "outputs": []
    },
    {
      "cell_type": "code",
      "metadata": {
        "id": "JiDNNN79X7Y5",
        "colab_type": "code",
        "colab": {}
      },
      "source": [
        "print(X)"
      ],
      "execution_count": 0,
      "outputs": []
    },
    {
      "cell_type": "code",
      "metadata": {
        "id": "qzpHw_COX9OL",
        "colab_type": "code",
        "colab": {}
      },
      "source": [
        "print(Y)"
      ],
      "execution_count": 0,
      "outputs": []
    },
    {
      "cell_type": "markdown",
      "metadata": {
        "id": "qofTpmnfQDTu",
        "colab_type": "text"
      },
      "source": [
        "# taking care of missing date"
      ]
    },
    {
      "cell_type": "code",
      "metadata": {
        "id": "SK-CtnKuQIG9",
        "colab_type": "code",
        "colab": {}
      },
      "source": [
        "from sklearn.impute import SimpleImputer\n",
        "imputer = SimpleImputer(missing_values = np.nan, strategy = 'mean')\n",
        "imputer.fit(X[:,1:3])\n",
        "X[:,1:3] = imputer.transform(X[:,1:3])"
      ],
      "execution_count": 0,
      "outputs": []
    },
    {
      "cell_type": "code",
      "metadata": {
        "id": "Vsk-IQGBYvZv",
        "colab_type": "code",
        "colab": {}
      },
      "source": [
        "print(X)"
      ],
      "execution_count": 0,
      "outputs": []
    },
    {
      "cell_type": "markdown",
      "metadata": {
        "id": "5FT2o5OCQMmG",
        "colab_type": "text"
      },
      "source": [
        "# encoding the categorical data"
      ]
    },
    {
      "cell_type": "markdown",
      "metadata": {
        "id": "T3Z1qvGY9Qvx",
        "colab_type": "text"
      },
      "source": [
        "# encoding the independent variable"
      ]
    },
    {
      "cell_type": "code",
      "metadata": {
        "id": "0b79j9qX9U33",
        "colab_type": "code",
        "colab": {}
      },
      "source": [
        "from sklearn.compose import ColumnTransformer\n",
        "from sklearn.preprocessing import OneHotEncoder\n",
        "ct = ColumnTransformer(transformers=[('encoder',OneHotEncoder(),[0])],remainder='passthrough')\n",
        "X = np.array(ct.fit_transform(X))\n"
      ],
      "execution_count": 0,
      "outputs": []
    },
    {
      "cell_type": "code",
      "metadata": {
        "id": "vlPDG7BK_aeL",
        "colab_type": "code",
        "colab": {}
      },
      "source": [
        "print(X)"
      ],
      "execution_count": 0,
      "outputs": []
    },
    {
      "cell_type": "markdown",
      "metadata": {
        "id": "CCU9BEejJD8o",
        "colab_type": "text"
      },
      "source": [
        "# encoding the dependent variable"
      ]
    },
    {
      "cell_type": "code",
      "metadata": {
        "id": "7Q0te6PlKdxT",
        "colab_type": "code",
        "colab": {}
      },
      "source": [
        "from sklearn.preprocessing import LabelEncoder\n",
        "le = LabelEncoder()\n",
        "Y = le.fit_transform(Y)\n"
      ],
      "execution_count": 0,
      "outputs": []
    },
    {
      "cell_type": "code",
      "metadata": {
        "id": "73lhhVgnKsfj",
        "colab_type": "code",
        "colab": {}
      },
      "source": [
        "print(Y)"
      ],
      "execution_count": 0,
      "outputs": []
    },
    {
      "cell_type": "markdown",
      "metadata": {
        "id": "fTHpGcniUC2I",
        "colab_type": "text"
      },
      "source": [
        "# splitting dataset into training set and test sets"
      ]
    },
    {
      "cell_type": "code",
      "metadata": {
        "id": "_jv1t-T7UQeV",
        "colab_type": "code",
        "colab": {}
      },
      "source": [
        "from sklearn.model_selection import train_test_split\n",
        "X_train, X_test, Y_train, Y_test = train_test_split(X, Y, test_size = 0.2, random_state = 1)"
      ],
      "execution_count": 0,
      "outputs": []
    },
    {
      "cell_type": "code",
      "metadata": {
        "id": "gTXVbwONUyV3",
        "colab_type": "code",
        "colab": {}
      },
      "source": [
        "print(X_train)"
      ],
      "execution_count": 0,
      "outputs": []
    },
    {
      "cell_type": "code",
      "metadata": {
        "id": "9Mn-SIG5U0Mm",
        "colab_type": "code",
        "colab": {}
      },
      "source": [
        "print(X_test)"
      ],
      "execution_count": 0,
      "outputs": []
    },
    {
      "cell_type": "code",
      "metadata": {
        "id": "xjtgIvJMU3uc",
        "colab_type": "code",
        "colab": {}
      },
      "source": [
        "print(Y_train)"
      ],
      "execution_count": 0,
      "outputs": []
    },
    {
      "cell_type": "code",
      "metadata": {
        "id": "5t4dfIYyU5lI",
        "colab_type": "code",
        "colab": {}
      },
      "source": [
        "print(Y_test)"
      ],
      "execution_count": 0,
      "outputs": []
    },
    {
      "cell_type": "markdown",
      "metadata": {
        "id": "oE9bX8It3Nhx",
        "colab_type": "text"
      },
      "source": [
        "# feature scaling"
      ]
    },
    {
      "cell_type": "code",
      "metadata": {
        "id": "DSSMnXj93Xlx",
        "colab_type": "code",
        "colab": {},
        "cellView": "both"
      },
      "source": [
        "from sklearn.preprocessing import StandardScaler\n",
        "sc = StandardScaler()\n",
        "X_train[:,3:]= sc.fit_transform(X_train[:,3:5])\n",
        "X_test[:,3:]= sc.transform(X_test[:,3:])"
      ],
      "execution_count": 0,
      "outputs": []
    },
    {
      "cell_type": "code",
      "metadata": {
        "id": "1kRDUeRM4GCu",
        "colab_type": "code",
        "colab": {}
      },
      "source": [
        "print(X_train)"
      ],
      "execution_count": 0,
      "outputs": []
    },
    {
      "cell_type": "code",
      "metadata": {
        "id": "sMShyoKb4RBx",
        "colab_type": "code",
        "colab": {},
        "cellView": "both"
      },
      "source": [
        "print(X_test)"
      ],
      "execution_count": 0,
      "outputs": []
    }
  ]
}
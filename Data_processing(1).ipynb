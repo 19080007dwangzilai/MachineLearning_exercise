{
  "nbformat": 4,
  "nbformat_minor": 0,
  "metadata": {
    "colab": {
      "name": "Data_processing(1).ipynb",
      "provenance": [],
      "toc_visible": true,
      "authorship_tag": "ABX9TyNp99F0KHHoOotMie0qs9Y8",
      "include_colab_link": true
    },
    "kernelspec": {
      "name": "python3",
      "display_name": "Python 3"
    }
  },
  "cells": [
    {
      "cell_type": "markdown",
      "metadata": {
        "id": "view-in-github",
        "colab_type": "text"
      },
      "source": [
        "<a href=\"https://colab.research.google.com/github/19080007dwangzilai/MachineLearning_exercise/blob/master/Data_processing(1).ipynb\" target=\"_parent\"><img src=\"https://colab.research.google.com/assets/colab-badge.svg\" alt=\"Open In Colab\"/></a>"
      ]
    },
    {
      "cell_type": "markdown",
      "metadata": {
        "id": "emzjPfVIP5LE",
        "colab_type": "text"
      },
      "source": [
        "# import the library"
      ]
    },
    {
      "cell_type": "code",
      "metadata": {
        "id": "uk7YKLETP-7Y",
        "colab_type": "code",
        "colab": {}
      },
      "source": [
        "import numpy as np\n",
        "import matplotlib.pyplot as plt\n",
        "import pandas as pd"
      ],
      "execution_count": 0,
      "outputs": []
    },
    {
      "cell_type": "markdown",
      "metadata": {
        "id": "eB99QTaZP_5r",
        "colab_type": "text"
      },
      "source": [
        "# import the dataset"
      ]
    },
    {
      "cell_type": "code",
      "metadata": {
        "id": "Kb9N0EwvQCxa",
        "colab_type": "code",
        "colab": {}
      },
      "source": [
        ""
      ],
      "execution_count": 0,
      "outputs": []
    },
    {
      "cell_type": "markdown",
      "metadata": {
        "id": "qofTpmnfQDTu",
        "colab_type": "text"
      },
      "source": [
        "# taking care of missing date"
      ]
    },
    {
      "cell_type": "code",
      "metadata": {
        "id": "SK-CtnKuQIG9",
        "colab_type": "code",
        "colab": {}
      },
      "source": [
        ""
      ],
      "execution_count": 0,
      "outputs": []
    },
    {
      "cell_type": "markdown",
      "metadata": {
        "id": "5FT2o5OCQMmG",
        "colab_type": "text"
      },
      "source": [
        "# 新段落"
      ]
    }
  ]
}